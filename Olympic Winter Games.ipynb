{
 "cells": [
  {
   "cell_type": "markdown",
   "id": "da87bc53",
   "metadata": {},
   "source": [
    "# 🏅 Olympic Winter Games\n",
    "\n",
    "Now that you have understood the basics of loading data from a CSV, let’s work with a real dataset from Kaggle. Run the two lines below to download the datasets we need for this challenge:\n",
    "\n",
    "- curl https://wagon-public-datasets.s3.amazonaws.com/01-Python/02-Data-Sourcing/olympics_dictionary.csv > data/dictionary.csv\n",
    "- curl https://wagon-public-datasets.s3.amazonaws.com/01-Python/02-Data-Sourcing/olympics_winter.csv > data/winter.csv\n",
    "\n",
    "Go ahead and open those two files in your text editor to try & understand what they contain. The goal of this challenge is to implement the method in winter_olympic_games.py:\n",
    "\n",
    "- Who won the most winter Olympic games medals (gold/silver/bronze) ever? (Hint: there’s just one answer)\n",
    "- From min_year to max_year, which country won the most gold medals?\n",
    "- Find the three women with the most 5000 meters medals(gold/silver/bronze).\n",
    "\n",
    "⚠️ For this challenge, you can’t use pandas yet 😉. Let’s see how far you can go with just Python & the csv module.\n",
    "\n",
    "Here some Viz of the results using Tableau Public:\n",
    "https://public.tableau.com/app/profile/joao.avela/viz/OlympicWinterGames_17084355196450/WinterGames"
   ]
  },
  {
   "cell_type": "code",
   "execution_count": 1,
   "id": "79f5a6f9",
   "metadata": {},
   "outputs": [],
   "source": [
    "import csv\n",
    "\n",
    "COUNTRIES_FILEPATH = \"data/dictionary.csv\"\n",
    "MEDALS_FILEPATH = \"data/winter.csv\""
   ]
  },
  {
   "cell_type": "markdown",
   "id": "4a6e8c19",
   "metadata": {},
   "source": [
    "## most_decorated_athlete_ever"
   ]
  },
  {
   "cell_type": "code",
   "execution_count": 2,
   "id": "fb51d838",
   "metadata": {},
   "outputs": [],
   "source": [
    "def most_decorated_athlete_ever():\n",
    "    \"\"\"Returns who won the most winter olympic games medals (gold/silver/bronze) ever\"\"\"\n",
    "    athletes = {}\n",
    "    with open(MEDALS_FILEPATH, mode='r') as csv_file:\n",
    "        csv_reader_medals = csv.DictReader(csv_file)\n",
    "        # print(f'''\n",
    "        # {csv_reader_medals = }\n",
    "        # {type(csv_reader_medals) = }\n",
    "        # ''')\n",
    "        for row in csv_reader_medals:\n",
    "            # print(f'''\n",
    "            # {row = }\n",
    "            # {row['Athlete'] = }''')\n",
    "            if row['Athlete'] not in athletes:\n",
    "                athletes[row['Athlete']] = 1\n",
    "            else:\n",
    "                athletes[row['Athlete']] += 1\n",
    "    # print(f'''\n",
    "    # {athletes = }\n",
    "    # {type(athletes) = }\n",
    "    # {len(athletes) = }\n",
    "    # ''')\n",
    "    sorted_athletes_dict = sorted(athletes.items(), key=lambda x: x[1], reverse=True)\n",
    "    return dict(sorted_athletes_dict[:1:])"
   ]
  },
  {
   "cell_type": "code",
   "execution_count": 3,
   "id": "9a61c409",
   "metadata": {
    "scrolled": true
   },
   "outputs": [
    {
     "data": {
      "text/plain": [
       "{'BJOERNDALEN, Ole Einar': 13}"
      ]
     },
     "execution_count": 3,
     "metadata": {},
     "output_type": "execute_result"
    }
   ],
   "source": [
    "most_decorated_athlete_ever()"
   ]
  },
  {
   "cell_type": "markdown",
   "id": "a3a18cbe",
   "metadata": {},
   "source": [
    "## country_with_most_gold_medals"
   ]
  },
  {
   "cell_type": "code",
   "execution_count": 4,
   "id": "e387000c",
   "metadata": {},
   "outputs": [],
   "source": [
    "def country_with_most_gold_medals(min_year, max_year):\n",
    "    \"\"\"Returns which country won the most gold medals between `min_year` and `max_year`\"\"\"\n",
    "    countries = {}\n",
    "    with open(MEDALS_FILEPATH, mode='r') as csv_file:\n",
    "        csv_reader_medals = csv.DictReader(csv_file)\n",
    "        for row in csv_reader_medals:\n",
    "            year = int(row['Year'])\n",
    "            if min_year <= year <= max_year and row['Medal'] == 'Gold':\n",
    "                if row['Country'] not in countries:\n",
    "                    countries[row['Country']] = 1\n",
    "                else:\n",
    "                    countries[row['Country']] += 1\n",
    "\n",
    "        sorted_countries_dict = sorted(countries.items(), key=lambda x: x[1], reverse=True)\n",
    "        country_most_medals = dict(sorted_countries_dict[:1:])\n",
    "        countrycode = [key for key in country_most_medals][0]\n",
    "    #         print(f\"\"\"\n",
    "    # Following -----------------------------------------\n",
    "    # {type(year) = }\n",
    "    # {countries = }\n",
    "    # {type(countries) = }\n",
    "    # {len(countries) = }\n",
    "    # {country_most_medals = }\n",
    "    # {countrycode = }\n",
    "    # ---------------------------------------------------\n",
    "    # \"\"\")\n",
    "    with open(COUNTRIES_FILEPATH, mode='r') as csv_file:\n",
    "        csv_reader_countries = csv.DictReader(csv_file)\n",
    "        for row in csv_reader_countries:\n",
    "            if row['Code'] == countrycode:\n",
    "                return row['Country']"
   ]
  },
  {
   "cell_type": "markdown",
   "id": "e91ceaad",
   "metadata": {},
   "source": [
    "country_with_most_gold_medals(min_year=1985, max_year=2000)"
   ]
  },
  {
   "cell_type": "markdown",
   "id": "860d1774",
   "metadata": {},
   "source": [
    "## top_three_women_in_five_thousand_meters"
   ]
  },
  {
   "cell_type": "code",
   "execution_count": 5,
   "id": "cc76b275",
   "metadata": {},
   "outputs": [],
   "source": [
    "def top_three_women_in_five_thousand_meters():\n",
    "    \"\"\"Returns the three women with the most 5000 meters medals(gold/silver/bronze)\"\"\"\n",
    "    with open(MEDALS_FILEPATH) as csv_file:\n",
    "        csv_reader_countries = csv.DictReader(csv_file, skipinitialspace=True)\n",
    "        women = {}\n",
    "        for row in csv_reader_countries:\n",
    "            if row['Gender'] == 'Women' and row['Event'] == '5000M':\n",
    "                if row['Athlete'] in women:\n",
    "                    women[row['Athlete']] += 1\n",
    "                else:\n",
    "                    women[row['Athlete']] = 1\n",
    "\n",
    "#     print(f\"\"\"\n",
    "#     Following 1 -----------------------------------------\n",
    "#     {women = }\n",
    "#     {type(women) = }\n",
    "#     {len(women) = }\n",
    "#     {women.items() = }\n",
    "#     ----------------------------------------------------\n",
    "#     \"\"\")\n",
    "\n",
    "    women = sorted(women.items(), key=lambda k: k[1], reverse=True)\n",
    "\n",
    "    print(f\"\"\"\n",
    "    Following 2 -----------------------------------------\n",
    "    {women = }\n",
    "    {women[0] = }\n",
    "    {women[0][1] = }\n",
    "    {type(women) = }\n",
    "    {len(women) = }\n",
    "    {map(lambda woman: woman[0], women[:3]) = }\n",
    "    {list(map(lambda woman: woman[0], women[:3])) = }\n",
    "    ----------------------------------------------------\n",
    "    \"\"\")\n",
    "    return list(map(lambda woman: woman[0], women[:3]))"
   ]
  },
  {
   "cell_type": "code",
   "execution_count": 6,
   "id": "be13a44f",
   "metadata": {},
   "outputs": [
    {
     "name": "stdout",
     "output_type": "stream",
     "text": [
      "\n",
      "    Following 2 -----------------------------------------\n",
      "    women = [('PECHSTEIN, Claudia', 5), ('NIEMANN-STIRNEMANN, Gunda', 3), ('HUGHES, Clara', 3), ('SABLIKOVA, Martina', 2), ('ZANGE, Gabi', 1), ('VAN GENNIP, Yvonne', 1), ('EHRIG, Andrea', 1), ('WARNICKE, Heike', 1), ('YAMAMOTO, Hiromi', 1), ('PROKASHEVA, Lyudmila', 1), ('SMIT, Gretha', 1), ('KLASSEN, Cindy', 1), ('BECKERT, Stephanie', 1), ('KLEIBEUKER, Carien', 1), ('WÜST, Ireen', 1)]\n",
      "    women[0] = ('PECHSTEIN, Claudia', 5)\n",
      "    women[0][1] = 5\n",
      "    type(women) = <class 'list'>\n",
      "    len(women) = 15\n",
      "    map(lambda woman: woman[0], women[:3]) = <map object at 0x7fe3df4bd7b0>\n",
      "    list(map(lambda woman: woman[0], women[:3])) = ['PECHSTEIN, Claudia', 'NIEMANN-STIRNEMANN, Gunda', 'HUGHES, Clara']\n",
      "    ----------------------------------------------------\n",
      "    \n"
     ]
    },
    {
     "data": {
      "text/plain": [
       "['PECHSTEIN, Claudia', 'NIEMANN-STIRNEMANN, Gunda', 'HUGHES, Clara']"
      ]
     },
     "execution_count": 6,
     "metadata": {},
     "output_type": "execute_result"
    }
   ],
   "source": [
    "top_three_women_in_five_thousand_meters()"
   ]
  }
 ],
 "metadata": {
  "kernelspec": {
   "display_name": "Python 3 (ipykernel)",
   "language": "python",
   "name": "python3"
  },
  "language_info": {
   "codemirror_mode": {
    "name": "ipython",
    "version": 3
   },
   "file_extension": ".py",
   "mimetype": "text/x-python",
   "name": "python",
   "nbconvert_exporter": "python",
   "pygments_lexer": "ipython3",
   "version": "3.10.6"
  },
  "toc": {
   "base_numbering": 1,
   "nav_menu": {},
   "number_sections": true,
   "sideBar": true,
   "skip_h1_title": false,
   "title_cell": "Table of Contents",
   "title_sidebar": "Contents",
   "toc_cell": false,
   "toc_position": {},
   "toc_section_display": true,
   "toc_window_display": false
  }
 },
 "nbformat": 4,
 "nbformat_minor": 5
}
